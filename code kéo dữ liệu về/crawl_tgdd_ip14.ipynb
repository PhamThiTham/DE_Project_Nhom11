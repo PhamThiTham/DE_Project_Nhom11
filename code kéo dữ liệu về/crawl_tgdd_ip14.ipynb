{
 "cells": [
  {
   "cell_type": "code",
   "execution_count": 1,
   "id": "d8fff1cb-e092-4df6-9c9b-748e1a69f1d4",
   "metadata": {
    "tags": []
   },
   "outputs": [
    {
     "name": "stdout",
     "output_type": "stream",
     "text": [
      "Libraries imported\n"
     ]
    }
   ],
   "source": [
    "import selenium as se\n",
    "import sys,os\n",
    "import csv,json\n",
    "from pprint import pprint\n",
    "from selenium import webdriver\n",
    "from selenium.webdriver.common.by import By\n",
    "from selenium.webdriver.support.wait import WebDriverWait\n",
    "from selenium.webdriver.support import expected_conditions as EC\n",
    "print (\"Libraries imported\")\n"
   ]
  },
  {
   "cell_type": "code",
   "execution_count": 2,
   "id": "37fd59c9-1f9d-4e5d-a237-a7f347663ffe",
   "metadata": {
    "tags": []
   },
   "outputs": [
    {
     "name": "stdout",
     "output_type": "stream",
     "text": [
      "{'iPhone 14 128GB': 'https://www.thegioididong.com/dtdd/iphone-14',\n",
      " 'iPhone 14 256GB': 'https://www.thegioididong.com/dtdd/iphone-14-256gb',\n",
      " 'iPhone 14 512GB': 'https://www.thegioididong.com/dtdd/iphone-14-512gb',\n",
      " 'iPhone 14 512GB Yellow': 'https://www.thegioididong.com/dtdd/iphone-14-512gb-yellow',\n",
      " 'iPhone 14 Plus 128GB': 'https://www.thegioididong.com/dtdd/iphone-14-plus',\n",
      " 'iPhone 14 Plus 256GB': 'https://www.thegioididong.com/dtdd/iphone-14-plus-256gb',\n",
      " 'iPhone 14 Plus 512GB': 'https://www.thegioididong.com/dtdd/iphone-14-plus-512gb',\n",
      " 'iPhone 14 Plus 512GB Yellow': 'https://www.thegioididong.com/dtdd/iphone-14-plus-512gb-yellow',\n",
      " 'iPhone 14 Pro 128GB': 'https://www.thegioididong.com/dtdd/iphone-14-pro',\n",
      " 'iPhone 14 Pro 1TB': 'https://www.thegioididong.com/dtdd/iphone-14-pro-1tb',\n",
      " 'iPhone 14 Pro 256GB': 'https://www.thegioididong.com/dtdd/iphone-14-pro-256gb',\n",
      " 'iPhone 14 Pro 512GB': 'https://www.thegioididong.com/dtdd/iphone-14-pro-512gb',\n",
      " 'iPhone 14 Pro Max 128GB': 'https://www.thegioididong.com/dtdd/iphone-14-pro-max',\n",
      " 'iPhone 14 Pro Max 1TB': 'https://www.thegioididong.com/dtdd/iphone-14-pro-max-1tb',\n",
      " 'iPhone 14 Pro Max 256GB': 'https://www.thegioididong.com/dtdd/iphone-14-pro-max-256gb',\n",
      " 'iPhone 14 Pro Max 512GB': 'https://www.thegioididong.com/dtdd/iphone-14-pro-max-512gb'}\n"
     ]
    }
   ],
   "source": [
    "master_page = \"https://www.thegioididong.com/dtdd-apple-iphone-14-series\"\n",
    "phone_pages={}\n",
    "browser = webdriver.Chrome()\n",
    "browser.get(master_page)\n",
    "WebDriverWait(browser, 10).until(\n",
    "        EC.presence_of_all_elements_located((By.TAG_NAME, \"li\")))\n",
    "list_products = browser.find_element(By.CLASS_NAME,\"listproduct\").find_elements(By.TAG_NAME,\"li\")\n",
    "\n",
    "for product in list_products:\n",
    "    phone_link = product.find_element(By.TAG_NAME,\"a\").get_attribute(\"href\")\n",
    "    phone_name = product.find_element(By.TAG_NAME,\"h3\").text\n",
    "    phone_pages[phone_name]=phone_link\n",
    "pprint(phone_pages)\n",
    "with open(\"phone_urls.json\",\"w\",encoding='utf8') as f:\n",
    "    json.dump(phone_pages,f)\n",
    "browser.quit()"
   ]
  },
  {
   "cell_type": "code",
   "execution_count": null,
   "id": "5d5727b1-9e1a-470b-8163-9ef255d5c23d",
   "metadata": {
    "tags": []
   },
   "outputs": [],
   "source": [
    "output_file= open(\"comments.csv\",\"w\",encoding='utf8')\n",
    "output_headers=[\"phone_name\",\"url\",\"user_name\",\"comment_text\",\"star_ratings\",\"bought_at\",\"recommendation\"]\n",
    "output_writer = csv.DictWriter(output_file,fieldnames=output_headers)\n",
    "output_writer.writeheader()\n",
    "phone_name, phone_link = 'iPhone 14 128GB', 'https://www.thegioididong.com/dtdd/iphone-14'\n",
    "visited_pages=set()\n",
    "for phone_name, phone_link in phone_pages.items():\n",
    "    browser=webdriver.Chrome()\n",
    "    browser.get(phone_link)\n",
    "    WebDriverWait(browser, 10).until(\n",
    "        EC.presence_of_all_elements_located((By.CLASS_NAME, \"comment-btn\")))\n",
    "    danh_gia_page=browser.find_element(By.CLASS_NAME,\"comment-btn\").find_elements(By.TAG_NAME,\"a\")[1].get_attribute('href')\n",
    "    print(danh_gia_page)\n",
    "    if danh_gia_page in visited_pages:\n",
    "        continue\n",
    "    visited_pages.add(danh_gia_page)\n",
    "    browser.get(danh_gia_page)\n",
    "    page_num = 0\n",
    "    comm_count = 0\n",
    "    while(True):\n",
    "        page_num += 1\n",
    "        browser.get(danh_gia_page+\"?p=%d\"%page_num)\n",
    "        comments=[]\n",
    "        try:\n",
    "            WebDriverWait(browser, 10).until(\n",
    "                EC.presence_of_all_elements_located((By.CLASS_NAME, \"comment__item\")))\n",
    "            comments = browser.find_element(By.CLASS_NAME,\"comment--all\").find_elements(By.CLASS_NAME,'par')\n",
    "            assert(len(comments)>0)\n",
    "        except:\n",
    "            pprint({\"phone_name\":phone_name, \"phone_link\":phone_link,\"comments_count\":comm_count})\n",
    "            browser.quit()\n",
    "            break\n",
    "            \n",
    "        for comm in comments:\n",
    "            username = None\n",
    "            stars = None\n",
    "            comm_text = None\n",
    "            stickbuy = None\n",
    "            reccomm = None\n",
    "            try:\n",
    "                username = comm.find_element(By.CLASS_NAME,\"item-top\").find_element(By.CLASS_NAME,\"txtname\").text\n",
    "            except:\n",
    "                username = None\n",
    "            try:\n",
    "                stars = len(comm.find_element(By.CLASS_NAME,\"comment-star\").find_elements(By.CLASS_NAME,\"icon-star\"))\n",
    "            except:\n",
    "                stars = None\n",
    "                \n",
    "            try:\n",
    "                comm_text = comm.find_element(By.CLASS_NAME,\"comment-content\").find_element(By.CLASS_NAME,\"cmt-txt\").text\n",
    "            except:\n",
    "                comm_text=None\n",
    "            try:\n",
    "                stickbuy = comm.find_element(By.CLASS_NAME,\"tickbuy\").text\n",
    "            except:\n",
    "                stickbuy = None\n",
    "            try:\n",
    "                reccomm = comm.find_element(By.CLASS_NAME,\"intro-future\").text\n",
    "            except:\n",
    "                reccomm = None\n",
    "            comment={\"phone_name\":phone_name,\n",
    "                   \"url\":danh_gia_page+\"?p=%d\"%page_num,\n",
    "                   \"user_name\":username,\n",
    "                   \"comment_text\":comm_text,\"star_ratings\":stars,\"bought_at\":stickbuy,\"recommendation\":reccomm}\n",
    "            ##pprint(comment)\n",
    "            output_writer.writerow(comment)\n",
    "            comm_count+=1\n",
    "    \n",
    "output_file.close()"
   ]
  },
  {
   "cell_type": "code",
   "execution_count": null,
   "id": "c6f35f58-aaee-4f48-9206-a11fde3d53e0",
   "metadata": {},
   "outputs": [],
   "source": [
    "browser.quit()\n",
    "output_file.close()\n",
    "\n",
    "\n"
   ]
  },
  {
   "cell_type": "code",
   "execution_count": null,
   "id": "0a5954c9-2620-4b18-b3b8-505ad55408ea",
   "metadata": {
    "tags": []
   },
   "outputs": [],
   "source": [
    "pprint(comments)"
   ]
  },
  {
   "cell_type": "code",
   "execution_count": null,
   "id": "b91f20ed-e7d8-4c06-bbdf-3f52dfbe2c82",
   "metadata": {},
   "outputs": [],
   "source": []
  }
 ],
 "metadata": {
  "kernelspec": {
   "display_name": "Python 3 (ipykernel)",
   "language": "python",
   "name": "python3"
  },
  "language_info": {
   "codemirror_mode": {
    "name": "ipython",
    "version": 3
   },
   "file_extension": ".py",
   "mimetype": "text/x-python",
   "name": "python",
   "nbconvert_exporter": "python",
   "pygments_lexer": "ipython3",
   "version": "3.10.5"
  }
 },
 "nbformat": 4,
 "nbformat_minor": 5
}
